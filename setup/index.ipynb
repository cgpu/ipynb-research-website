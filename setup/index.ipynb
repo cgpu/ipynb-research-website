{
 "cells": [
  {
   "cell_type": "markdown",
   "metadata": {},
   "source": [
    "# Set up for the tutorial"
   ]
  },
  {
   "cell_type": "markdown",
   "metadata": {},
   "source": [
    "## 1. Start a new Jupyter Lab session in CloudOS\n",
    "\n",
    "For detailed instructions on how to access the Jupyter Notebook Sessions in Lifebit CloudOS, take a look at the documentation here:\n",
    "https://lifebit.gitbook.io/cloudos/web-interface/jupyter-lab\n",
    "\n",
    "Follow the instructions on [\"How to create a Jupyter Notebook Session in CloudOS\"](https://lifebit.gitbook.io/cloudos/web-interface/jupyter-lab#how-can-i-create-a-new-notebook-sessions-on-cloudos). For this step of the analysis, start a small sized instance. 4vCPUS instances for example are sufficient for exploratory data analysis tasks with small datasets.\n",
    "\n",
    "## 2. Prepare your environment for using `conda`\n",
    "\n",
    "After your Notebook Session has initilased in CloudOS, open a terminal using the + icon, and type the following command to initialize conda for shell interaction:\n",
    "\n",
    "```bash\n",
    "conda init\n",
    "```\n",
    "\n",
    "Close the terminal and open a new one so that the changes take effect."
   ]
  },
  {
   "cell_type": "markdown",
   "metadata": {},
   "source": [
    "## 3. Clone the tutorial's GitHub repo in the Jupyter Notebook Session\n",
    "\n",
    "To bring the code from GitHub to CloudOS, we will use the `git clone` command. Follow the steps below to:\n",
    "\n",
    "a) configure your Git credentials in the Jupyter Notebook Session\n",
    "b) clone the repository in your working directory in the Jupyter Notebook Session\n",
    "\n",
    "> **NOTE**:\n",
    "If you have 2 Factor Authentication enabled in your GitHub account, make sure you have handy your personal access token. If not, you can use your GitHub password on login.\n",
    "If you want to create a Personal Access Token (PAT) with sensible defaults, an easy way is to call the `browse_github_pat()` function from the R package `{usethis}`.\n",
    "\n",
    "\n",
    "```r\n",
    "# https://usethis.r-lib.org/reference/browse_github_pat.html\n",
    "usethis::browse_github_pat()\n",
    "```\n",
    "\n",
    "\n",
    "This command will take you to the following webpage:\n",
    "https://github.com/settings/tokens/new?scopes=repo,gist,user:email&description=R:GITHUB_PAT\n",
    "\n",
    "You can see in the URL the default scopes. Follow the instructions in your GitHub account to complete the creation of the Personal Acces Token."
   ]
  },
  {
   "cell_type": "markdown",
   "metadata": {},
   "source": [
    "## 3a) Configure your Git credentials in the Jupyter Notebook Session\n",
    "\n",
    "Next, let's set up our Git credentials in the Jupyter Notebooks Session to be able to perfom git commands, like `git push`, `git pull`, `git add` etc.\n",
    "\n",
    "To configure your `user.name`, `user.email` and favorite text editor execute the following commands.\n",
    "Replace the example `user.name` and `user.email` with your respective information that you have associated with your GitHub account.\n",
    "\n",
    "```sh\n",
    "# Set user name and email\n",
    "git config --global user.name \n",
    "git config --global user.email \n",
    "\n",
    "# Set your prefered editor\n",
    "git config --global core.editor nano \n",
    "```\n",
    "\n",
    "You can swap `nano`, for `vi`, `vim` or `emacs`."
   ]
  },
  {
   "cell_type": "markdown",
   "metadata": {},
   "source": [
    "## 3b) Clone the repository in your working directory in the Jupyter Notebook Session\n",
    "\n",
    "The default working directory in the CloudOS Jupyter Notebooks Session is named `session_data`. Go ahead and clone the repo in the `session_data` directory by typing the following command in your terminal:\n",
    "\n",
    "```bash\n",
    "git clone https://github.com/cgpu/ipynb-research-website\n",
    "```"
   ]
  },
  {
   "cell_type": "markdown",
   "metadata": {},
   "source": [
    "Then, `cd` into the `ipynb-research-website` directory"
   ]
  },
  {
   "cell_type": "markdown",
   "metadata": {},
   "source": [
    "## 4. Update the `base` conda environment"
   ]
  },
  {
   "cell_type": "markdown",
   "metadata": {},
   "source": [
    "Use the dependencies metadata file named `environment.yml` to install the required dependencies for the turorial. \n",
    "\n",
    "> **NOTE**:\n",
    "You can read more about installing dependencies with conda from metadata files in the official documentation [here](https://docs.conda.io/projects/conda/en/latest/user-guide/tasks/manage-environments.html#creating-an-environment-from-an-environment-yml-file).\n",
    "\n",
    "To install the required dependencies, type the following commands:\n",
    "\n",
    "```bash\n",
    "conda env update --name base --file dependencies/environment.yml -y\n",
    "conda activate base\n",
    "\n",
    "```\n",
    "\n",
    "*TIP:*\n",
    "\n",
    "During the tutorial, we might install more R packages. In the end of our Jupyter Notebook Session, we can export the *updated* environment metadata in a file (it is typical to name this `environment.yml`) and use it to reproduce the same workspace in the future or share it with someone that wants to test the same tutorial.\n",
    "\n",
    "A handy command to export conda dependencies installed during the session in [an OS agnostic manner](https://github.com/conda/conda/issues/9399) is the following:\n",
    "\n",
    "```bash\n",
    " conda env export --no-builds --from-history  | grep -v \"^prefix: \" > environment.yml\n",
    "```"
   ]
  },
  {
   "cell_type": "markdown",
   "metadata": {},
   "source": [
    "# 5. Ready!\n",
    "\n",
    "Once conda has successfully installed the dependencies, your environment is ready.\n",
    "We can now start working on our Jupyter Notebook Sessions!"
   ]
  }
 ],
 "metadata": {
  "celltoolbar": "Raw Cell Format",
  "jupytext": {
   "cell_metadata_filter": "-all",
   "main_language": "bash",
   "notebook_metadata_filter": "-all"
  },
  "kernelspec": {
   "display_name": "Python 3",
   "language": "python",
   "name": "python3"
  },
  "language_info": {
   "codemirror_mode": {
    "name": "ipython",
    "version": 3
   },
   "file_extension": ".py",
   "mimetype": "text/x-python",
   "name": "python",
   "nbconvert_exporter": "python",
   "pygments_lexer": "ipython3",
   "version": "3.7.6"
  }
 },
 "nbformat": 4,
 "nbformat_minor": 4
}
